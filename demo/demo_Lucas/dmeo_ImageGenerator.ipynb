{
 "cells": [
  {
   "cell_type": "code",
   "execution_count": 1,
   "metadata": {},
   "outputs": [],
   "source": [
    "import sys\n",
    "\n",
    "sys.path.append(\"../../resource/ContrastVisibilityProject_Lucas\")"
   ]
  },
  {
   "cell_type": "code",
   "execution_count": null,
   "metadata": {},
   "outputs": [],
   "source": [
    "from ImageProcessing.ImageGenerator import Image\n",
    "from pathlib import Path\n",
    "# Load image\n",
    "data_root = Path(\"/home/yangk/intership_2025_COSYS/resource/DexiNed/BIPEDv2/BIPED\")\n",
    "file = \"RGB_002\"\n",
    "img = Image()\n",
    "img.load_image(data_root / f\"/edges/imgs/train/rgbr/real/{file}.jpg\")"
   ]
  },
  {
   "cell_type": "code",
   "execution_count": null,
   "metadata": {},
   "outputs": [],
   "source": [
    "def convert_into_linear_space(self):\n",
    "    mask = self.image_array <= 0.04045\n",
    "    self.image_array[mask] /= 12.92\n",
    "    self.image_array[~mask] = ((self.image_array[~mask] + 0.055) / 1.055) ** 2.4"
   ]
  },
  {
   "cell_type": "code",
   "execution_count": null,
   "metadata": {},
   "outputs": [],
   "source": [
    "def generate_visibility_map(self, img, edge_map):\n",
    "    preprocessed_image = img.image_array / np.mean(img.mean_intensity)\n",
    "    self.filtered_img = cv.filter2D(preprocessed_image, -1, self.filter.filter_array, borderType=cv.BORDER_REPLICATE)\n",
    "\n",
    "    image_dx = cv.filter2D(preprocessed_image, -1, self.filter.filter_dx, borderType=cv.BORDER_REPLICATE) / self.pixel_size_degree\n",
    "    image_dy = cv.filter2D(preprocessed_image, -1, self.filter.filter_dy, borderType=cv.BORDER_REPLICATE) / self.pixel_size_degree\n",
    "\n",
    "    derived_filtered_img = np.hypot(image_dx, image_dy)\n",
    "\n",
    "    self.visibility_map = np.where(edge_map == 1, derived_filtered_img, 0)\n",
    "\n",
    "    self.compute_mean_visibility()"
   ]
  }
 ],
 "metadata": {
  "kernelspec": {
   "display_name": "uge",
   "language": "python",
   "name": "python3"
  },
  "language_info": {
   "codemirror_mode": {
    "name": "ipython",
    "version": 3
   },
   "file_extension": ".py",
   "mimetype": "text/x-python",
   "name": "python",
   "nbconvert_exporter": "python",
   "pygments_lexer": "ipython3",
   "version": "3.12.9"
  }
 },
 "nbformat": 4,
 "nbformat_minor": 2
}
