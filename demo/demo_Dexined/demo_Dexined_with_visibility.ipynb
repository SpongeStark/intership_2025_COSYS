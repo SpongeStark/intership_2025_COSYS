{
 "cells": [
  {
   "cell_type": "markdown",
   "metadata": {},
   "source": [
    "# Load packages"
   ]
  },
  {
   "cell_type": "code",
   "execution_count": 2,
   "metadata": {},
   "outputs": [],
   "source": [
    "import torch\n",
    "import torch.nn as nn\n",
    "from torch.utils.data.dataloader import DataLoader\n",
    "import json\n",
    "import numpy as np"
   ]
  },
  {
   "cell_type": "code",
   "execution_count": 3,
   "metadata": {},
   "outputs": [],
   "source": [
    "import sys\n",
    "\n",
    "sys.path.append(\"../../resource/DexiNed\")\n",
    "sys.path.append(\"../../src\")\n",
    "\n",
    "from model import DexiNed\n",
    "from dataset import BIPEDv2"
   ]
  },
  {
   "cell_type": "markdown",
   "metadata": {},
   "source": [
    "# Train"
   ]
  },
  {
   "cell_type": "code",
   "execution_count": 4,
   "metadata": {},
   "outputs": [
    {
     "name": "stdout",
     "output_type": "stream",
     "text": [
      "cpu\n"
     ]
    }
   ],
   "source": [
    "device = \"cuda\" if torch.cuda.is_available() else \"cpu\"\n",
    "epoch = 1\n",
    "batch_size = 8\n",
    "learning_rate = 1e-4\n",
    "biped_dataset = BIPEDv2(\n",
    "    \"/home/yangk/intership_2025_COSYS/resource/DexiNed/BIPEDv2/BIPED/edges/imgs/train/rgbr/real/\",\n",
    "    \"/home/yangk/intership_2025_COSYS/resource/DexiNed/BIPEDv2/BIPED/edges/edge_maps/train/rgbr/real/\"\n",
    ")\n",
    "\n",
    "model = DexiNed()\n",
    "criterion = nn.MSELoss()\n",
    "optimizer = torch.optim.Adam(model.parameters(), lr=learning_rate)\n",
    "loader = DataLoader(biped_dataset, batch_size=4)\n",
    "logging = {\n",
    "    'train_loss': []\n",
    "}\n",
    "\n",
    "device = \"cpu\"\n",
    "\n",
    "print(device)"
   ]
  },
  {
   "cell_type": "code",
   "execution_count": null,
   "metadata": {},
   "outputs": [],
   "source": [
    "model.train()\n",
    "model = model.to(device)\n",
    "for e in range(epoch):\n",
    "    epoche_loss = []\n",
    "    for x, y in loader:\n",
    "        x, y = x.to(device), y.to(device)\n",
    "        optimizer.zero_grad()\n",
    "        output = model(x)[-1].squeeze()\n",
    "        loss = criterion(output, y)\n",
    "        loss.backward()\n",
    "        optimizer.step()\n",
    "        print(\"*\", end=\"\", flush=True)\n",
    "        epoche_loss.append(loss.detach().item())\n",
    "    \n",
    "    logging['train_loss'].append(np.mean(epoche_loss))\n",
    "    print(f\"\\nIn epoch {e}, the average loss is {logging['train_loss'][-1]}\")\n",
    "\n",
    "# save files\n",
    "model = model.to('cpu')\n",
    "torch.save(model.state_dict(), \"./checkpoints/cpt_visibility.pth\")\n",
    "print(f\"Succeed saving mdoel parameters in ./checkpoints/cpt_visibility.pth.\")\n",
    "with open(\"./checkpoints/cpt_visibility.json\", \"w\") as f:\n",
    "    json.dump(logging, f)\n",
    "print(f\"Succeed saving log in ./checkpoints/cpt_visibility.json\")"
   ]
  },
  {
   "cell_type": "code",
   "execution_count": null,
   "metadata": {},
   "outputs": [],
   "source": []
  }
 ],
 "metadata": {
  "kernelspec": {
   "display_name": "uge",
   "language": "python",
   "name": "python3"
  },
  "language_info": {
   "codemirror_mode": {
    "name": "ipython",
    "version": 3
   },
   "file_extension": ".py",
   "mimetype": "text/x-python",
   "name": "python",
   "nbconvert_exporter": "python",
   "pygments_lexer": "ipython3",
   "version": "3.12.9"
  }
 },
 "nbformat": 4,
 "nbformat_minor": 2
}
